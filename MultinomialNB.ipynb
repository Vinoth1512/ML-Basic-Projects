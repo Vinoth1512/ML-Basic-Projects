{
  "nbformat": 4,
  "nbformat_minor": 0,
  "metadata": {
    "colab": {
      "name": "DAY19(NAIVE BAYES)Multinomial.ipynb",
      "provenance": [],
      "collapsed_sections": [],
      "authorship_tag": "ABX9TyNJpjWzbpbaAu05yaZLc+kD",
      "include_colab_link": true
    },
    "kernelspec": {
      "name": "python3",
      "display_name": "Python 3"
    },
    "language_info": {
      "name": "python"
    }
  },
  "cells": [
    {
      "cell_type": "markdown",
      "metadata": {
        "id": "view-in-github",
        "colab_type": "text"
      },
      "source": [
        "<a href=\"https://colab.research.google.com/github/Vinoth1512/ML-PROJECTS/blob/main/DAY19(NAIVE_BAYES)Multinomial.ipynb\" target=\"_parent\"><img src=\"https://colab.research.google.com/assets/colab-badge.svg\" alt=\"Open In Colab\"/></a>"
      ]
    },
    {
      "cell_type": "code",
      "metadata": {
        "id": "oU_Z4Q6lMwbK"
      },
      "source": [
        "import numpy as np \n",
        "import pandas as pd\n",
        "import sklearn\n",
        "from sklearn.datasets import fetch_20newsgroups"
      ],
      "execution_count": 1,
      "outputs": []
    },
    {
      "cell_type": "code",
      "metadata": {
        "id": "O2ob1ajSOQ2q",
        "colab": {
          "base_uri": "https://localhost:8080/"
        },
        "outputId": "ac20a63a-b4ee-415d-ea33-8b8ef7c41cb9"
      },
      "source": [
        "news=fetch_20newsgroups()\n"
      ],
      "execution_count": 2,
      "outputs": [
        {
          "output_type": "stream",
          "text": [
            "Downloading 20news dataset. This may take a few minutes.\n",
            "Downloading dataset from https://ndownloader.figshare.com/files/5975967 (14 MB)\n"
          ],
          "name": "stderr"
        }
      ]
    },
    {
      "cell_type": "code",
      "metadata": {
        "colab": {
          "base_uri": "https://localhost:8080/"
        },
        "id": "RYYXZ84iOV_R",
        "outputId": "0947399b-2264-4f87-d384-91f714713ecb"
      },
      "source": [
        "news.keys()"
      ],
      "execution_count": 3,
      "outputs": [
        {
          "output_type": "execute_result",
          "data": {
            "text/plain": [
              "dict_keys(['data', 'filenames', 'target_names', 'target', 'DESCR'])"
            ]
          },
          "metadata": {
            "tags": []
          },
          "execution_count": 3
        }
      ]
    },
    {
      "cell_type": "code",
      "metadata": {
        "colab": {
          "base_uri": "https://localhost:8080/"
        },
        "id": "N-mdHgInOcsd",
        "outputId": "0c8af7a4-c092-4067-f93a-60a49e52d49d"
      },
      "source": [
        "print(news.target_names)"
      ],
      "execution_count": 4,
      "outputs": [
        {
          "output_type": "stream",
          "text": [
            "['alt.atheism', 'comp.graphics', 'comp.os.ms-windows.misc', 'comp.sys.ibm.pc.hardware', 'comp.sys.mac.hardware', 'comp.windows.x', 'misc.forsale', 'rec.autos', 'rec.motorcycles', 'rec.sport.baseball', 'rec.sport.hockey', 'sci.crypt', 'sci.electronics', 'sci.med', 'sci.space', 'soc.religion.christian', 'talk.politics.guns', 'talk.politics.mideast', 'talk.politics.misc', 'talk.religion.misc']\n"
          ],
          "name": "stdout"
        }
      ]
    },
    {
      "cell_type": "code",
      "metadata": {
        "colab": {
          "base_uri": "https://localhost:8080/"
        },
        "id": "jGxrlHMyOexF",
        "outputId": "aa0f9e5c-260e-4e41-e286-e268484819a3"
      },
      "source": [
        "dir(news)"
      ],
      "execution_count": 5,
      "outputs": [
        {
          "output_type": "execute_result",
          "data": {
            "text/plain": [
              "['DESCR', 'data', 'filenames', 'target', 'target_names']"
            ]
          },
          "metadata": {
            "tags": []
          },
          "execution_count": 5
        }
      ]
    },
    {
      "cell_type": "code",
      "metadata": {
        "id": "Mo-Uuyg4BbEr",
        "colab": {
          "base_uri": "https://localhost:8080/"
        },
        "outputId": "87b06de5-922d-4282-9313-7278a87348ae"
      },
      "source": [
        "cats=news.target_names[-4:]\n",
        "cats\n"
      ],
      "execution_count": 6,
      "outputs": [
        {
          "output_type": "execute_result",
          "data": {
            "text/plain": [
              "['talk.politics.guns',\n",
              " 'talk.politics.mideast',\n",
              " 'talk.politics.misc',\n",
              " 'talk.religion.misc']"
            ]
          },
          "metadata": {
            "tags": []
          },
          "execution_count": 6
        }
      ]
    },
    {
      "cell_type": "code",
      "metadata": {
        "id": "R7B-SnozBJxb"
      },
      "source": [
        "#TO GET FEATURE VECTOR\n",
        "from sklearn.feature_extraction.text import CountVectorizer\n",
        "count_vector=CountVectorizer()\n",
        "news_train=fetch_20newsgroups(subset='train',categories=cats)\n",
        "news_test=fetch_20newsgroups(subset='test',categories=cats)"
      ],
      "execution_count": 7,
      "outputs": []
    },
    {
      "cell_type": "code",
      "metadata": {
        "id": "On0KGG6xDI75",
        "colab": {
          "base_uri": "https://localhost:8080/"
        },
        "outputId": "1f64b204-5e59-4dab-929d-5a85c03a907a"
      },
      "source": [
        "xtrain=count_vector.fit_transform(news_train.data)\n",
        "print(xtrain.shape)\n"
      ],
      "execution_count": 8,
      "outputs": [
        {
          "output_type": "stream",
          "text": [
            "(1952, 36379)\n"
          ],
          "name": "stdout"
        }
      ]
    },
    {
      "cell_type": "code",
      "metadata": {
        "id": "okK6Ob0FD-84",
        "colab": {
          "base_uri": "https://localhost:8080/"
        },
        "outputId": "db729aaf-288b-4af6-a9a8-75643a29e28f"
      },
      "source": [
        "#TO GET WEIGHTAGE \n",
        "from sklearn.feature_extraction.text import TfidfTransformer\n",
        "tfidf=TfidfTransformer()\n",
        "xtrain_tfidf=tfidf.fit_transform(xtrain)\n",
        "xtrain_tfidf.shape"
      ],
      "execution_count": 9,
      "outputs": [
        {
          "output_type": "execute_result",
          "data": {
            "text/plain": [
              "(1952, 36379)"
            ]
          },
          "metadata": {
            "tags": []
          },
          "execution_count": 9
        }
      ]
    },
    {
      "cell_type": "code",
      "metadata": {
        "id": "-IgtrL-TabgV"
      },
      "source": [
        "from sklearn.naive_bayes import MultinomialNB\n",
        "model=MultinomialNB().fit(xtrain_tfidf,news_train.target)\n",
        "\n",
        "\n"
      ],
      "execution_count": 10,
      "outputs": []
    },
    {
      "cell_type": "code",
      "metadata": {
        "id": "1lqbE0f0au8g",
        "colab": {
          "base_uri": "https://localhost:8080/"
        },
        "outputId": "70b785b8-c22d-46cd-a828-9681db0247ad"
      },
      "source": [
        "x_test_df=count_vector.transform(news_test.data)\n",
        "x_test_tfidf=tfidf.transform(x_test_df)\n",
        "\n",
        "pred=model.predict(x_test_tfidf)\n",
        "pred"
      ],
      "execution_count": 11,
      "outputs": [
        {
          "output_type": "execute_result",
          "data": {
            "text/plain": [
              "array([0, 1, 0, ..., 3, 0, 0])"
            ]
          },
          "metadata": {
            "tags": []
          },
          "execution_count": 11
        }
      ]
    },
    {
      "cell_type": "code",
      "metadata": {
        "id": "EG2HCQwVOlV2",
        "colab": {
          "base_uri": "https://localhost:8080/"
        },
        "outputId": "c46c04a7-726f-49df-fd2f-0c53b56b09fe"
      },
      "source": [
        "#SIMPLE EXAMPLE FOR COUNTVECTORIZER\n",
        "from sklearn.feature_extraction.text import CountVectorizer\n",
        "corpus = [\n",
        "     'This is the first document.',\n",
        "     'This document is the second document.',\n",
        "     'And this is the third one.',\n",
        "     'Is this the first document?',\n",
        " ]\n",
        "vectorizer=CountVectorizer()\n",
        "X=vectorizer.fit_transform(corpus)\n",
        "vectorizer.get_feature_names()\n"
      ],
      "execution_count": 12,
      "outputs": [
        {
          "output_type": "execute_result",
          "data": {
            "text/plain": [
              "['and', 'document', 'first', 'is', 'one', 'second', 'the', 'third', 'this']"
            ]
          },
          "metadata": {
            "tags": []
          },
          "execution_count": 12
        }
      ]
    },
    {
      "cell_type": "code",
      "metadata": {
        "id": "Fpr_6vi3jmhw",
        "colab": {
          "base_uri": "https://localhost:8080/"
        },
        "outputId": "be5947a3-db15-4cf0-e807-d4b8b6bfded1"
      },
      "source": [
        "print(X.toarray())"
      ],
      "execution_count": 13,
      "outputs": [
        {
          "output_type": "stream",
          "text": [
            "[[0 1 1 1 0 0 1 0 1]\n",
            " [0 2 0 1 0 1 1 0 1]\n",
            " [1 0 0 1 1 0 1 1 1]\n",
            " [0 1 1 1 0 0 1 0 1]]\n"
          ],
          "name": "stdout"
        }
      ]
    },
    {
      "cell_type": "code",
      "metadata": {
        "id": "cOUVVY7MnFPP",
        "colab": {
          "base_uri": "https://localhost:8080/",
          "height": 173
        },
        "outputId": "2eb28b77-4cf9-4ad3-bcec-ffc549bd785f"
      },
      "source": [
        "df=pd.DataFrame(X.toarray(),columns=vectorizer.get_feature_names())\n",
        "df"
      ],
      "execution_count": 14,
      "outputs": [
        {
          "output_type": "execute_result",
          "data": {
            "text/html": [
              "<div>\n",
              "<style scoped>\n",
              "    .dataframe tbody tr th:only-of-type {\n",
              "        vertical-align: middle;\n",
              "    }\n",
              "\n",
              "    .dataframe tbody tr th {\n",
              "        vertical-align: top;\n",
              "    }\n",
              "\n",
              "    .dataframe thead th {\n",
              "        text-align: right;\n",
              "    }\n",
              "</style>\n",
              "<table border=\"1\" class=\"dataframe\">\n",
              "  <thead>\n",
              "    <tr style=\"text-align: right;\">\n",
              "      <th></th>\n",
              "      <th>and</th>\n",
              "      <th>document</th>\n",
              "      <th>first</th>\n",
              "      <th>is</th>\n",
              "      <th>one</th>\n",
              "      <th>second</th>\n",
              "      <th>the</th>\n",
              "      <th>third</th>\n",
              "      <th>this</th>\n",
              "    </tr>\n",
              "  </thead>\n",
              "  <tbody>\n",
              "    <tr>\n",
              "      <th>0</th>\n",
              "      <td>0</td>\n",
              "      <td>1</td>\n",
              "      <td>1</td>\n",
              "      <td>1</td>\n",
              "      <td>0</td>\n",
              "      <td>0</td>\n",
              "      <td>1</td>\n",
              "      <td>0</td>\n",
              "      <td>1</td>\n",
              "    </tr>\n",
              "    <tr>\n",
              "      <th>1</th>\n",
              "      <td>0</td>\n",
              "      <td>2</td>\n",
              "      <td>0</td>\n",
              "      <td>1</td>\n",
              "      <td>0</td>\n",
              "      <td>1</td>\n",
              "      <td>1</td>\n",
              "      <td>0</td>\n",
              "      <td>1</td>\n",
              "    </tr>\n",
              "    <tr>\n",
              "      <th>2</th>\n",
              "      <td>1</td>\n",
              "      <td>0</td>\n",
              "      <td>0</td>\n",
              "      <td>1</td>\n",
              "      <td>1</td>\n",
              "      <td>0</td>\n",
              "      <td>1</td>\n",
              "      <td>1</td>\n",
              "      <td>1</td>\n",
              "    </tr>\n",
              "    <tr>\n",
              "      <th>3</th>\n",
              "      <td>0</td>\n",
              "      <td>1</td>\n",
              "      <td>1</td>\n",
              "      <td>1</td>\n",
              "      <td>0</td>\n",
              "      <td>0</td>\n",
              "      <td>1</td>\n",
              "      <td>0</td>\n",
              "      <td>1</td>\n",
              "    </tr>\n",
              "  </tbody>\n",
              "</table>\n",
              "</div>"
            ],
            "text/plain": [
              "   and  document  first  is  one  second  the  third  this\n",
              "0    0         1      1   1    0       0    1      0     1\n",
              "1    0         2      0   1    0       1    1      0     1\n",
              "2    1         0      0   1    1       0    1      1     1\n",
              "3    0         1      1   1    0       0    1      0     1"
            ]
          },
          "metadata": {
            "tags": []
          },
          "execution_count": 14
        }
      ]
    }
  ]
}
