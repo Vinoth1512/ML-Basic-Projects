{
  "nbformat": 4,
  "nbformat_minor": 0,
  "metadata": {
    "colab": {
      "name": "DAY19(NAIVE BAYES)Multinomial.ipynb",
      "provenance": [],
      "collapsed_sections": [],
      "authorship_tag": "ABX9TyN3JXXQCTymIBeBiTlx+5Pv",
      "include_colab_link": true
    },
    "kernelspec": {
      "name": "python3",
      "display_name": "Python 3"
    },
    "language_info": {
      "name": "python"
    }
  },
  "cells": [
    {
      "cell_type": "markdown",
      "metadata": {
        "id": "view-in-github",
        "colab_type": "text"
      },
      "source": [
        "<a href=\"https://colab.research.google.com/github/Vinoth1512/ML-PROJECTS/blob/main/DAY19(NAIVE_BAYES)Multinomial.ipynb\" target=\"_parent\"><img src=\"https://colab.research.google.com/assets/colab-badge.svg\" alt=\"Open In Colab\"/></a>"
      ]
    },
    {
      "cell_type": "code",
      "metadata": {
        "id": "oU_Z4Q6lMwbK"
      },
      "source": [
        "import numpy as np \n",
        "import pandas as pd\n",
        "import sklearn\n",
        "from sklearn.datasets import fetch_20newsgroups"
      ],
      "execution_count": 149,
      "outputs": []
    },
    {
      "cell_type": "code",
      "metadata": {
        "id": "O2ob1ajSOQ2q"
      },
      "source": [
        "news=fetch_20newsgroups()\n"
      ],
      "execution_count": 150,
      "outputs": []
    },
    {
      "cell_type": "code",
      "metadata": {
        "colab": {
          "base_uri": "https://localhost:8080/"
        },
        "id": "RYYXZ84iOV_R",
        "outputId": "70bd5a1f-d9a8-42ed-bd88-8bd629e8e4db"
      },
      "source": [
        "news.keys()"
      ],
      "execution_count": 151,
      "outputs": [
        {
          "output_type": "execute_result",
          "data": {
            "text/plain": [
              "dict_keys(['data', 'filenames', 'target_names', 'target', 'DESCR'])"
            ]
          },
          "metadata": {
            "tags": []
          },
          "execution_count": 151
        }
      ]
    },
    {
      "cell_type": "code",
      "metadata": {
        "colab": {
          "base_uri": "https://localhost:8080/"
        },
        "id": "vSNPbk2rRIwx",
        "outputId": "6ad0576b-8982-4e65-ad02-34430da6cd75"
      },
      "source": [
        "news.target"
      ],
      "execution_count": 152,
      "outputs": [
        {
          "output_type": "execute_result",
          "data": {
            "text/plain": [
              "array([7, 4, 4, ..., 3, 1, 8])"
            ]
          },
          "metadata": {
            "tags": []
          },
          "execution_count": 152
        }
      ]
    },
    {
      "cell_type": "code",
      "metadata": {
        "colab": {
          "base_uri": "https://localhost:8080/"
        },
        "id": "N-mdHgInOcsd",
        "outputId": "ff87091a-d64b-4625-c8b2-e5b099a47e53"
      },
      "source": [
        "print(news.target_names)"
      ],
      "execution_count": 153,
      "outputs": [
        {
          "output_type": "stream",
          "text": [
            "['alt.atheism', 'comp.graphics', 'comp.os.ms-windows.misc', 'comp.sys.ibm.pc.hardware', 'comp.sys.mac.hardware', 'comp.windows.x', 'misc.forsale', 'rec.autos', 'rec.motorcycles', 'rec.sport.baseball', 'rec.sport.hockey', 'sci.crypt', 'sci.electronics', 'sci.med', 'sci.space', 'soc.religion.christian', 'talk.politics.guns', 'talk.politics.mideast', 'talk.politics.misc', 'talk.religion.misc']\n"
          ],
          "name": "stdout"
        }
      ]
    },
    {
      "cell_type": "code",
      "metadata": {
        "colab": {
          "base_uri": "https://localhost:8080/"
        },
        "id": "jGxrlHMyOexF",
        "outputId": "f87de238-3553-450e-a703-04d070d833ec"
      },
      "source": [
        "dir(news)"
      ],
      "execution_count": 154,
      "outputs": [
        {
          "output_type": "execute_result",
          "data": {
            "text/plain": [
              "['DESCR', 'data', 'filenames', 'target', 'target_names']"
            ]
          },
          "metadata": {
            "tags": []
          },
          "execution_count": 154
        }
      ]
    },
    {
      "cell_type": "code",
      "metadata": {
        "id": "Mo-Uuyg4BbEr",
        "colab": {
          "base_uri": "https://localhost:8080/"
        },
        "outputId": "356bf4a8-cee7-4694-ab0d-e89e1408143f"
      },
      "source": [
        "cats=news.target_names[:4]\n",
        "cats\n"
      ],
      "execution_count": 155,
      "outputs": [
        {
          "output_type": "execute_result",
          "data": {
            "text/plain": [
              "['alt.atheism',\n",
              " 'comp.graphics',\n",
              " 'comp.os.ms-windows.misc',\n",
              " 'comp.sys.ibm.pc.hardware']"
            ]
          },
          "metadata": {
            "tags": []
          },
          "execution_count": 155
        }
      ]
    },
    {
      "cell_type": "code",
      "metadata": {
        "id": "R7B-SnozBJxb"
      },
      "source": [
        "#TO GET FEATURE VECTOR\n",
        "from sklearn.feature_extraction.text import CountVectorizer\n",
        "CV=CountVectorizer()\n",
        "news_train=fetch_20newsgroups(subset='train',categories=cats)\n",
        "news_test=fetch_20newsgroups(subset='test',categories=cats)"
      ],
      "execution_count": 187,
      "outputs": []
    },
    {
      "cell_type": "code",
      "metadata": {
        "id": "On0KGG6xDI75",
        "colab": {
          "base_uri": "https://localhost:8080/"
        },
        "outputId": "40527945-d219-40c2-d671-a4dc13c7a94e"
      },
      "source": [
        "xtrain=CV.fit_transform(news_train.data)\n",
        "print(xtrain.shape)"
      ],
      "execution_count": 188,
      "outputs": [
        {
          "output_type": "stream",
          "text": [
            "(2245, 62227)\n"
          ],
          "name": "stdout"
        }
      ]
    },
    {
      "cell_type": "code",
      "metadata": {
        "colab": {
          "base_uri": "https://localhost:8080/"
        },
        "id": "PnBcgr3VWW4E",
        "outputId": "b9d6c3e8-9483-468c-d42b-e6d07432f069"
      },
      "source": [
        "xtest=CV.transform(news_test.data)\n",
        "print(xtest.shape)"
      ],
      "execution_count": 189,
      "outputs": [
        {
          "output_type": "stream",
          "text": [
            "(1494, 62227)\n"
          ],
          "name": "stdout"
        }
      ]
    },
    {
      "cell_type": "code",
      "metadata": {
        "id": "okK6Ob0FD-84",
        "colab": {
          "base_uri": "https://localhost:8080/"
        },
        "outputId": "677f9534-1c5c-4ac6-fec6-afcbd187b5e5"
      },
      "source": [
        "#TO GET WEIGHTAGE \n",
        "from sklearn.feature_extraction.text import TfidfTransformer\n",
        "tfidf=TfidfTransformer()\n",
        "xtrain_tfidf=tfidf.fit_transform(xtrain)\n",
        "xtest_tfidf=tfidf.transform(xtest)\n",
        "xtrain_tfidf.shape"
      ],
      "execution_count": 170,
      "outputs": [
        {
          "output_type": "execute_result",
          "data": {
            "text/plain": [
              "(2245, 62227)"
            ]
          },
          "metadata": {
            "tags": []
          },
          "execution_count": 170
        }
      ]
    },
    {
      "cell_type": "code",
      "metadata": {
        "colab": {
          "base_uri": "https://localhost:8080/",
          "height": 359
        },
        "id": "nxPGp68ufNin",
        "outputId": "7597b5f0-4120-4c27-95ef-5bb314afda2e"
      },
      "source": [
        "df_idf=pd.DataFrame(tfidf.idf_,index=CV.get_feature_names(),columns=[\"IDF_WEIGHTS\"])\n",
        "df_idf.sort_values(by=[\"IDF_WEIGHTS\"]).head(10)"
      ],
      "execution_count": 193,
      "outputs": [
        {
          "output_type": "execute_result",
          "data": {
            "text/html": [
              "<div>\n",
              "<style scoped>\n",
              "    .dataframe tbody tr th:only-of-type {\n",
              "        vertical-align: middle;\n",
              "    }\n",
              "\n",
              "    .dataframe tbody tr th {\n",
              "        vertical-align: top;\n",
              "    }\n",
              "\n",
              "    .dataframe thead th {\n",
              "        text-align: right;\n",
              "    }\n",
              "</style>\n",
              "<table border=\"1\" class=\"dataframe\">\n",
              "  <thead>\n",
              "    <tr style=\"text-align: right;\">\n",
              "      <th></th>\n",
              "      <th>IDF_WEIGHTS</th>\n",
              "    </tr>\n",
              "  </thead>\n",
              "  <tbody>\n",
              "    <tr>\n",
              "      <th>subject</th>\n",
              "      <td>1.000000</td>\n",
              "    </tr>\n",
              "    <tr>\n",
              "      <th>from</th>\n",
              "      <td>1.000000</td>\n",
              "    </tr>\n",
              "    <tr>\n",
              "      <th>lines</th>\n",
              "      <td>1.001783</td>\n",
              "    </tr>\n",
              "    <tr>\n",
              "      <th>organization</th>\n",
              "      <td>1.036730</td>\n",
              "    </tr>\n",
              "    <tr>\n",
              "      <th>the</th>\n",
              "      <td>1.088875</td>\n",
              "    </tr>\n",
              "    <tr>\n",
              "      <th>to</th>\n",
              "      <td>1.129089</td>\n",
              "    </tr>\n",
              "    <tr>\n",
              "      <th>of</th>\n",
              "      <td>1.170460</td>\n",
              "    </tr>\n",
              "    <tr>\n",
              "      <th>and</th>\n",
              "      <td>1.215272</td>\n",
              "    </tr>\n",
              "    <tr>\n",
              "      <th>in</th>\n",
              "      <td>1.230854</td>\n",
              "    </tr>\n",
              "    <tr>\n",
              "      <th>is</th>\n",
              "      <td>1.283831</td>\n",
              "    </tr>\n",
              "  </tbody>\n",
              "</table>\n",
              "</div>"
            ],
            "text/plain": [
              "              IDF_WEIGHTS\n",
              "subject          1.000000\n",
              "from             1.000000\n",
              "lines            1.001783\n",
              "organization     1.036730\n",
              "the              1.088875\n",
              "to               1.129089\n",
              "of               1.170460\n",
              "and              1.215272\n",
              "in               1.230854\n",
              "is               1.283831"
            ]
          },
          "metadata": {
            "tags": []
          },
          "execution_count": 193
        }
      ]
    },
    {
      "cell_type": "code",
      "metadata": {
        "colab": {
          "base_uri": "https://localhost:8080/",
          "height": 359
        },
        "id": "QyOKBZaejW8T",
        "outputId": "b1401f66-fbd9-4472-8b3f-18d5493581e6"
      },
      "source": [
        "count_vector=CV.transform(news.data)\n",
        "tf_idf_vector=tfidf.transform(count_vector)\n",
        "\n",
        "feature_names=CV.get_feature_names()\n",
        "#get tdif for first document\n",
        "first_doc_vector=tf_idf_vector[0]\n",
        "df_tfidf=pd.DataFrame(first_doc_vector.T.todense(),index=feature_names,columns=[\"TFIDF\"])\n",
        "df_tfidf.sort_values(by=[\"TFIDF\"],ascending=False).head(10)"
      ],
      "execution_count": 196,
      "outputs": [
        {
          "output_type": "execute_result",
          "data": {
            "text/html": [
              "<div>\n",
              "<style scoped>\n",
              "    .dataframe tbody tr th:only-of-type {\n",
              "        vertical-align: middle;\n",
              "    }\n",
              "\n",
              "    .dataframe tbody tr th {\n",
              "        vertical-align: top;\n",
              "    }\n",
              "\n",
              "    .dataframe thead th {\n",
              "        text-align: right;\n",
              "    }\n",
              "</style>\n",
              "<table border=\"1\" class=\"dataframe\">\n",
              "  <thead>\n",
              "    <tr style=\"text-align: right;\">\n",
              "      <th></th>\n",
              "      <th>TFIDF</th>\n",
              "    </tr>\n",
              "  </thead>\n",
              "  <tbody>\n",
              "    <tr>\n",
              "      <th>car</th>\n",
              "      <td>0.540074</td>\n",
              "    </tr>\n",
              "    <tr>\n",
              "      <th>wam</th>\n",
              "      <td>0.235244</td>\n",
              "    </tr>\n",
              "    <tr>\n",
              "      <th>umd</th>\n",
              "      <td>0.192722</td>\n",
              "    </tr>\n",
              "    <tr>\n",
              "      <th>was</th>\n",
              "      <td>0.167437</td>\n",
              "    </tr>\n",
              "    <tr>\n",
              "      <th>neighborhood</th>\n",
              "      <td>0.155281</td>\n",
              "    </tr>\n",
              "    <tr>\n",
              "      <th>60s</th>\n",
              "      <td>0.155281</td>\n",
              "    </tr>\n",
              "    <tr>\n",
              "      <th>this</th>\n",
              "      <td>0.151021</td>\n",
              "    </tr>\n",
              "    <tr>\n",
              "      <th>funky</th>\n",
              "      <td>0.147434</td>\n",
              "    </tr>\n",
              "    <tr>\n",
              "      <th>70s</th>\n",
              "      <td>0.141866</td>\n",
              "    </tr>\n",
              "    <tr>\n",
              "      <th>bumper</th>\n",
              "      <td>0.141866</td>\n",
              "    </tr>\n",
              "  </tbody>\n",
              "</table>\n",
              "</div>"
            ],
            "text/plain": [
              "                 TFIDF\n",
              "car           0.540074\n",
              "wam           0.235244\n",
              "umd           0.192722\n",
              "was           0.167437\n",
              "neighborhood  0.155281\n",
              "60s           0.155281\n",
              "this          0.151021\n",
              "funky         0.147434\n",
              "70s           0.141866\n",
              "bumper        0.141866"
            ]
          },
          "metadata": {
            "tags": []
          },
          "execution_count": 196
        }
      ]
    },
    {
      "cell_type": "code",
      "metadata": {
        "id": "-IgtrL-TabgV",
        "colab": {
          "base_uri": "https://localhost:8080/"
        },
        "outputId": "c2ddfc6d-194f-4e66-ac01-693f50bb707d"
      },
      "source": [
        "from sklearn.naive_bayes import MultinomialNB\n",
        "model=MultinomialNB()\n",
        "model.fit(xtrain_tfidf,news_train.target)"
      ],
      "execution_count": 171,
      "outputs": [
        {
          "output_type": "execute_result",
          "data": {
            "text/plain": [
              "MultinomialNB(alpha=1.0, class_prior=None, fit_prior=True)"
            ]
          },
          "metadata": {
            "tags": []
          },
          "execution_count": 171
        }
      ]
    },
    {
      "cell_type": "code",
      "metadata": {
        "id": "1lqbE0f0au8g",
        "colab": {
          "base_uri": "https://localhost:8080/"
        },
        "outputId": "18446e0a-98b2-410b-a292-e14b79bbcbe1"
      },
      "source": [
        "pred=model.predict(xtest_tfidf)\n",
        "pred"
      ],
      "execution_count": 172,
      "outputs": [
        {
          "output_type": "execute_result",
          "data": {
            "text/plain": [
              "array([1, 2, 1, ..., 1, 3, 3])"
            ]
          },
          "metadata": {
            "tags": []
          },
          "execution_count": 172
        }
      ]
    },
    {
      "cell_type": "code",
      "metadata": {
        "colab": {
          "base_uri": "https://localhost:8080/"
        },
        "id": "4PKNyoxMaJH3",
        "outputId": "7f0c86b6-1582-4043-ec9a-b112baf0c9e9"
      },
      "source": [
        "from sklearn.metrics import confusion_matrix,accuracy_score\n",
        "accuracy_score(pred,news_test.target)*100"
      ],
      "execution_count": 176,
      "outputs": [
        {
          "output_type": "execute_result",
          "data": {
            "text/plain": [
              "85.20749665327979"
            ]
          },
          "metadata": {
            "tags": []
          },
          "execution_count": 176
        }
      ]
    },
    {
      "cell_type": "code",
      "metadata": {
        "colab": {
          "base_uri": "https://localhost:8080/"
        },
        "id": "r0I2QQBHarS2",
        "outputId": "5baa078a-a7d8-4157-f05d-6fe9cc20ad2f"
      },
      "source": [
        "confusion_matrix(pred,news_test.target)"
      ],
      "execution_count": 177,
      "outputs": [
        {
          "output_type": "execute_result",
          "data": {
            "text/plain": [
              "array([[312,  12,  16,   1],\n",
              "       [  2, 319,  26,   8],\n",
              "       [  1,  22, 277,  18],\n",
              "       [  4,  36,  75, 365]])"
            ]
          },
          "metadata": {
            "tags": []
          },
          "execution_count": 177
        }
      ]
    },
    {
      "cell_type": "code",
      "metadata": {
        "id": "EG2HCQwVOlV2",
        "colab": {
          "base_uri": "https://localhost:8080/"
        },
        "outputId": "b6bb9706-48b6-4d7a-c8e6-938a6a8eaa99"
      },
      "source": [
        "#SIMPLE EXAMPLE FOR COUNTVECTORIZER\n",
        "from sklearn.feature_extraction.text import CountVectorizer\n",
        "corpus = [\n",
        "     'This is the first document.',\n",
        "     'This document is the second document.',\n",
        "     'And this is the third one.',\n",
        "     'Is this the first document?',\n",
        " ]\n",
        "vectorizer=CountVectorizer()\n",
        "X=vectorizer.fit_transform(corpus)\n",
        "vectorizer.get_feature_names()\n"
      ],
      "execution_count": 162,
      "outputs": [
        {
          "output_type": "execute_result",
          "data": {
            "text/plain": [
              "['and', 'document', 'first', 'is', 'one', 'second', 'the', 'third', 'this']"
            ]
          },
          "metadata": {
            "tags": []
          },
          "execution_count": 162
        }
      ]
    },
    {
      "cell_type": "code",
      "metadata": {
        "id": "Fpr_6vi3jmhw",
        "colab": {
          "base_uri": "https://localhost:8080/"
        },
        "outputId": "be5947a3-db15-4cf0-e807-d4b8b6bfded1"
      },
      "source": [
        "print(X.toarray())"
      ],
      "execution_count": null,
      "outputs": [
        {
          "output_type": "stream",
          "text": [
            "[[0 1 1 1 0 0 1 0 1]\n",
            " [0 2 0 1 0 1 1 0 1]\n",
            " [1 0 0 1 1 0 1 1 1]\n",
            " [0 1 1 1 0 0 1 0 1]]\n"
          ],
          "name": "stdout"
        }
      ]
    },
    {
      "cell_type": "code",
      "metadata": {
        "id": "cOUVVY7MnFPP",
        "colab": {
          "base_uri": "https://localhost:8080/",
          "height": 173
        },
        "outputId": "2eb28b77-4cf9-4ad3-bcec-ffc549bd785f"
      },
      "source": [
        "df=pd.DataFrame(X.toarray(),columns=vectorizer.get_feature_names())\n",
        "df"
      ],
      "execution_count": null,
      "outputs": [
        {
          "output_type": "execute_result",
          "data": {
            "text/html": [
              "<div>\n",
              "<style scoped>\n",
              "    .dataframe tbody tr th:only-of-type {\n",
              "        vertical-align: middle;\n",
              "    }\n",
              "\n",
              "    .dataframe tbody tr th {\n",
              "        vertical-align: top;\n",
              "    }\n",
              "\n",
              "    .dataframe thead th {\n",
              "        text-align: right;\n",
              "    }\n",
              "</style>\n",
              "<table border=\"1\" class=\"dataframe\">\n",
              "  <thead>\n",
              "    <tr style=\"text-align: right;\">\n",
              "      <th></th>\n",
              "      <th>and</th>\n",
              "      <th>document</th>\n",
              "      <th>first</th>\n",
              "      <th>is</th>\n",
              "      <th>one</th>\n",
              "      <th>second</th>\n",
              "      <th>the</th>\n",
              "      <th>third</th>\n",
              "      <th>this</th>\n",
              "    </tr>\n",
              "  </thead>\n",
              "  <tbody>\n",
              "    <tr>\n",
              "      <th>0</th>\n",
              "      <td>0</td>\n",
              "      <td>1</td>\n",
              "      <td>1</td>\n",
              "      <td>1</td>\n",
              "      <td>0</td>\n",
              "      <td>0</td>\n",
              "      <td>1</td>\n",
              "      <td>0</td>\n",
              "      <td>1</td>\n",
              "    </tr>\n",
              "    <tr>\n",
              "      <th>1</th>\n",
              "      <td>0</td>\n",
              "      <td>2</td>\n",
              "      <td>0</td>\n",
              "      <td>1</td>\n",
              "      <td>0</td>\n",
              "      <td>1</td>\n",
              "      <td>1</td>\n",
              "      <td>0</td>\n",
              "      <td>1</td>\n",
              "    </tr>\n",
              "    <tr>\n",
              "      <th>2</th>\n",
              "      <td>1</td>\n",
              "      <td>0</td>\n",
              "      <td>0</td>\n",
              "      <td>1</td>\n",
              "      <td>1</td>\n",
              "      <td>0</td>\n",
              "      <td>1</td>\n",
              "      <td>1</td>\n",
              "      <td>1</td>\n",
              "    </tr>\n",
              "    <tr>\n",
              "      <th>3</th>\n",
              "      <td>0</td>\n",
              "      <td>1</td>\n",
              "      <td>1</td>\n",
              "      <td>1</td>\n",
              "      <td>0</td>\n",
              "      <td>0</td>\n",
              "      <td>1</td>\n",
              "      <td>0</td>\n",
              "      <td>1</td>\n",
              "    </tr>\n",
              "  </tbody>\n",
              "</table>\n",
              "</div>"
            ],
            "text/plain": [
              "   and  document  first  is  one  second  the  third  this\n",
              "0    0         1      1   1    0       0    1      0     1\n",
              "1    0         2      0   1    0       1    1      0     1\n",
              "2    1         0      0   1    1       0    1      1     1\n",
              "3    0         1      1   1    0       0    1      0     1"
            ]
          },
          "metadata": {
            "tags": []
          },
          "execution_count": 14
        }
      ]
    }
  ]
}